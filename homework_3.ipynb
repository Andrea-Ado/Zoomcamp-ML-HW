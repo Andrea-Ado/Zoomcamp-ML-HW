{
 "cells": [
  {
   "cell_type": "code",
   "execution_count": 1,
   "id": "cbe1e1ce-0630-4ee2-a474-11dd2980e7ea",
   "metadata": {},
   "outputs": [],
   "source": [
    "import pandas as pd\n",
    "import numpy as np\n",
    "from sklearn.model_selection import train_test_split\n",
    "from sklearn.metrics import mutual_info_score, accuracy_score\n",
    "from sklearn.feature_extraction import DictVectorizer\n",
    "from sklearn.linear_model import LogisticRegression"
   ]
  },
  {
   "cell_type": "code",
   "execution_count": 2,
   "id": "7e575db9-e72f-4ed4-81fc-cfbbddb8ec70",
   "metadata": {},
   "outputs": [],
   "source": [
    "# Load and prepare data\n",
    "\n",
    "df = pd.read_csv('data/course_lead_scoring.csv')\n",
    "\n",
    "# Fill missing values\n",
    "for column in df.columns:\n",
    "    if df[column].dtype == 'object':\n",
    "        df[column] = df[column].fillna('NA')\n",
    "    else:\n",
    "        df[column] = df[column].fillna(0.0)"
   ]
  },
  {
   "cell_type": "code",
   "execution_count": 3,
   "id": "7745bf84-69c1-4348-9676-70d49a3c3fe2",
   "metadata": {},
   "outputs": [
    {
     "name": "stdout",
     "output_type": "stream",
     "text": [
      "Q1 - Value counts for 'industry':\n",
      "industry\n",
      "retail           203\n",
      "finance          200\n",
      "other            198\n",
      "healthcare       187\n",
      "education        187\n",
      "technology       179\n",
      "manufacturing    174\n",
      "NA               134\n",
      "Name: count, dtype: int64 \n",
      "\n"
     ]
    }
   ],
   "source": [
    "# Question 1: Count values in 'industry'\n",
    "\n",
    "print(\"Q1 - Value counts for 'industry':\")\n",
    "print(df[\"industry\"].value_counts(), \"\\n\")"
   ]
  },
  {
   "cell_type": "code",
   "execution_count": 4,
   "id": "a5bf93ef-8312-4a41-ad37-2c8347f70f27",
   "metadata": {},
   "outputs": [
    {
     "name": "stdout",
     "output_type": "stream",
     "text": [
      "Q2 - Highest correlation:\n",
      "Pair: ('annual_income', 'interaction_count')\n",
      "Correlation: 0.027\n",
      "\n"
     ]
    }
   ],
   "source": [
    "# Question 2: Find the most correlated numeric pair\n",
    "\n",
    "numeric_columns = df.select_dtypes(include=['float64', 'int64']).drop(columns=['converted'])\n",
    "correlation_matrix = numeric_columns.corr()\n",
    "\n",
    "np.fill_diagonal(correlation_matrix.values, 0)\n",
    "\n",
    "max_corr_value = correlation_matrix.abs().max().max()\n",
    "max_corr_pair = correlation_matrix.stack().idxmax()\n",
    "\n",
    "print(\"Q2 - Highest correlation:\")\n",
    "print(f\"Pair: {max_corr_pair}\")\n",
    "print(f\"Correlation: {max_corr_value:.3f}\\n\")"
   ]
  },
  {
   "cell_type": "code",
   "execution_count": 5,
   "id": "d0322ab0-517b-45de-8082-30c78c9d4134",
   "metadata": {},
   "outputs": [
    {
     "name": "stdout",
     "output_type": "stream",
     "text": [
      "Training set size: 876\n",
      "Validation set size: 293\n",
      "Test set size: 293\n",
      "\n"
     ]
    }
   ],
   "source": [
    "# Split the data\n",
    "\n",
    "X = df.drop(columns=['converted'])\n",
    "y = df['converted']\n",
    "\n",
    "# 80% train+val, 20% test\n",
    "X_train_val, X_test, y_train_val, y_test = train_test_split(\n",
    "    X, y, test_size=0.2, random_state=42\n",
    ")\n",
    "\n",
    "# 60% train, 20% val\n",
    "X_train, X_val, y_train, y_val = train_test_split(\n",
    "    X_train_val, y_train_val, test_size=0.25, random_state=42\n",
    ")\n",
    "\n",
    "print(f\"Training set size: {X_train.shape[0]}\")\n",
    "print(f\"Validation set size: {X_val.shape[0]}\")\n",
    "print(f\"Test set size: {X_test.shape[0]}\\n\")"
   ]
  },
  {
   "cell_type": "code",
   "execution_count": 6,
   "id": "293fbb42-8e88-4c8c-91a5-a72d8d00b2db",
   "metadata": {},
   "outputs": [
    {
     "name": "stdout",
     "output_type": "stream",
     "text": [
      "Q3 - Mutual Information Scores:\n",
      "lead_source         : 0.04\n",
      "industry            : 0.01\n",
      "employment_status   : 0.01\n",
      "location            : 0.00\n",
      "\n"
     ]
    }
   ],
   "source": [
    "# Question 3: Mutual information for categorical features\n",
    "\n",
    "categorical = ['lead_source', 'industry', 'employment_status', 'location']\n",
    "\n",
    "print(\"Q3 - Mutual Information Scores:\")\n",
    "for col in categorical:\n",
    "    mi = mutual_info_score(X_train[col], y_train)\n",
    "    print(f\"{col:20s}: {mi:.2f}\")\n",
    "print()"
   ]
  },
  {
   "cell_type": "code",
   "execution_count": 11,
   "id": "8ec42a34-2d9e-4bfc-bb11-557263423be6",
   "metadata": {},
   "outputs": [
    {
     "name": "stdout",
     "output_type": "stream",
     "text": [
      "Q4 - Validation Accuracy: 0.700\n",
      "\n"
     ]
    }
   ],
   "source": [
    "# Question 4: Model training (Logistic Regression)\n",
    "\n",
    "numerical = [col for col in X_train.select_dtypes(include=['int64', 'float64']).columns]\n",
    "\n",
    "features = categorical + numerical\n",
    "\n",
    "dv = DictVectorizer(sparse=False)\n",
    "train_dict = X_train[features].to_dict(orient='records')\n",
    "val_dict = X_val[features].to_dict(orient='records')\n",
    "\n",
    "X_train_encoded = dv.fit_transform(train_dict)\n",
    "X_val_encoded = dv.transform(val_dict)\n",
    "\n",
    "model = LogisticRegression(solver='liblinear', C=1.0, max_iter=1000, random_state=42)\n",
    "model.fit(X_train_encoded, y_train)\n",
    "\n",
    "y_pred = model.predict(X_val_encoded)\n",
    "val_acc = accuracy_score(y_val, y_pred)\n",
    "\n",
    "print(f\"Q4 - Validation Accuracy: {val_acc:.3f}\\n\")"
   ]
  },
  {
   "cell_type": "code",
   "execution_count": 14,
   "id": "83c708fe-7287-4208-83e1-d93581963297",
   "metadata": {},
   "outputs": [
    {
     "name": "stdout",
     "output_type": "stream",
     "text": [
      "Q5 - Base accuracy: 0.6997\n",
      "\n",
      "lead_source           Δaccuracy = 0.0034\n",
      "industry              Δaccuracy = 0.0000\n",
      "employment_status     Δaccuracy = 0.0034\n",
      "location              Δaccuracy = 0.0102\n",
      "number_of_courses_viewed  Δaccuracy = 0.1433\n",
      "annual_income         Δaccuracy = 0.1536\n",
      "interaction_count     Δaccuracy = 0.1433\n",
      "lead_score            Δaccuracy = 0.0068\n",
      "\n",
      "Least useful feature: industry\n",
      "\n"
     ]
    }
   ],
   "source": [
    "# Question 5: Feature elimination (Δaccuracy)\n",
    "\n",
    "dv = DictVectorizer(sparse=False)\n",
    "train_dict = X_train[features].to_dict(orient='records')\n",
    "val_dict = X_val[features].to_dict(orient='records')\n",
    "\n",
    "X_train_encoded = dv.fit_transform(train_dict)\n",
    "X_val_encoded = dv.transform(val_dict)\n",
    "\n",
    "model = LogisticRegression(solver='liblinear', C=1.0, max_iter=10000, random_state=42)\n",
    "model.fit(X_train_encoded, y_train)\n",
    "y_pred = model.predict(X_val_encoded)\n",
    "\n",
    "base_acc = accuracy_score(y_val, y_pred)\n",
    "print(f\"Q5 - Base accuracy: {base_acc:.4f}\\n\")\n",
    "\n",
    "diffs = {}\n",
    "for f in features:\n",
    "    feats = [col for col in features if col != f]\n",
    "    \n",
    "    dv = DictVectorizer(sparse=False)\n",
    "    train_dict = X_train[feats].to_dict(orient='records')\n",
    "    val_dict = X_val[feats].to_dict(orient='records')\n",
    "    \n",
    "    X_train_enc = dv.fit_transform(train_dict)\n",
    "    X_val_enc = dv.transform(val_dict)\n",
    "    \n",
    "    model = LogisticRegression(solver='liblinear', C=1.0, max_iter=10000, random_state=42)\n",
    "    model.fit(X_train_enc, y_train)\n",
    "    y_pred = model.predict(X_val_enc)\n",
    "    \n",
    "    acc = accuracy_score(y_val, y_pred)\n",
    "    diffs[f] = abs(base_acc - acc)\n",
    "    print(f\"{f:20s}  Δaccuracy = {diffs[f]:.4f}\")\n",
    "\n",
    "least_useful = min(diffs, key=diffs.get)\n",
    "print(f\"\\nLeast useful feature: {least_useful}\\n\")"
   ]
  },
  {
   "cell_type": "code",
   "execution_count": 13,
   "id": "a95cffba-4895-4408-8662-83680c4e5c49",
   "metadata": {},
   "outputs": [
    {
     "name": "stdout",
     "output_type": "stream",
     "text": [
      "C=0.01    Validation Accuracy = 0.700\n",
      "C=0.1     Validation Accuracy = 0.700\n",
      "C=1       Validation Accuracy = 0.700\n",
      "C=10      Validation Accuracy = 0.700\n",
      "C=100     Validation Accuracy = 0.700\n",
      "\n",
      "Q6 - Best C: 0.01  (Accuracy = 0.700)\n"
     ]
    }
   ],
   "source": [
    "# Question 6: Regularization parameter tuning (C)\n",
    "\n",
    "C_values = [0.01, 0.1, 1, 10, 100]\n",
    "accuracies = {}\n",
    "\n",
    "for C in C_values:\n",
    "    model = LogisticRegression(solver='liblinear', C=C, max_iter=10000, random_state=42)\n",
    "    model.fit(X_train_encoded, y_train)\n",
    "    y_pred = model.predict(X_val_encoded)\n",
    "    acc = accuracy_score(y_val, y_pred)\n",
    "    accuracies[C] = acc\n",
    "    print(f\"C={C:<6}  Validation Accuracy = {acc:.3f}\")\n",
    "\n",
    "best_C = max(accuracies, key=accuracies.get)\n",
    "best_acc = accuracies[best_C]\n",
    "\n",
    "print(f\"\\nQ6 - Best C: {best_C}  (Accuracy = {best_acc:.3f})\")"
   ]
  },
  {
   "cell_type": "code",
   "execution_count": null,
   "id": "01c3066e-9803-4b54-8bc5-91ce9ade3b6a",
   "metadata": {},
   "outputs": [],
   "source": []
  }
 ],
 "metadata": {
  "kernelspec": {
   "display_name": "Python 3 (ipykernel)",
   "language": "python",
   "name": "python3"
  },
  "language_info": {
   "codemirror_mode": {
    "name": "ipython",
    "version": 3
   },
   "file_extension": ".py",
   "mimetype": "text/x-python",
   "name": "python",
   "nbconvert_exporter": "python",
   "pygments_lexer": "ipython3",
   "version": "3.12.7"
  }
 },
 "nbformat": 4,
 "nbformat_minor": 5
}
